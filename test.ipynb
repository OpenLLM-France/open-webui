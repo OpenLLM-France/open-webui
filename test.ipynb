{
 "cells": [
  {
   "cell_type": "code",
   "execution_count": 11,
   "metadata": {},
   "outputs": [
    {
     "name": "stdout",
     "output_type": "stream",
     "text": [
      "200\n",
      "{'key': 'sk-7vj9bFDk30w6h2TFS31DQw', 'info': {'key_name': 'sk-...1DQw', 'key_alias': 'Amzo', 'soft_budget_cooldown': False, 'spend': 0.0, 'expires': None, 'models': [], 'aliases': {}, 'config': {}, 'user_id': None, 'team_id': None, 'permissions': {}, 'max_parallel_requests': None, 'metadata': {'team': 'AiTeam', 'user': 'Amzo', 'email': 'ag@gmail.com'}, 'blocked': None, 'tpm_limit': None, 'rpm_limit': None, 'max_budget': 10.0, 'budget_duration': None, 'budget_reset_at': None, 'allowed_cache_controls': [], 'model_spend': {}, 'model_max_budget': {}, 'budget_id': None, 'created_at': '2024-12-19T20:58:26.469000+00:00', 'updated_at': '2024-12-19T20:58:26.469000+00:00', 'litellm_budget_table': None}}\n"
     ]
    }
   ],
   "source": [
    "import requests\n",
    "\n",
    "url = \"http://localhost:4000/key/info\"\n",
    "key = 'sk-7vj9bFDk30w6h2TFS31DQw'\n",
    "auth_token = \"sk-1234\"\n",
    "\n",
    "# Constructing the headers\n",
    "headers = {\n",
    "    \"Authorization\": f\"Bearer {auth_token}\"\n",
    "}\n",
    "\n",
    "# Sending the GET request\n",
    "response = requests.get(url, params={\"key\": key}, headers=headers)\n",
    "\n",
    "# Printing the response\n",
    "print(response.status_code)\n",
    "print(response.json())"
   ]
  },
  {
   "cell_type": "code",
   "execution_count": 25,
   "metadata": {},
   "outputs": [
    {
     "data": {
      "text/plain": [
       "{'key': 'sk-8nuLzOpAdzLjKUGh1ziMvQ',\n",
       " 'info': {'key_name': 'sk-...iMvQ',\n",
       "  'key_alias': 'Gadji',\n",
       "  'soft_budget_cooldown': False,\n",
       "  'spend': 1.836017,\n",
       "  'expires': None,\n",
       "  'models': [],\n",
       "  'aliases': {},\n",
       "  'config': {},\n",
       "  'user_id': None,\n",
       "  'team_id': None,\n",
       "  'permissions': {},\n",
       "  'max_parallel_requests': None,\n",
       "  'metadata': {'team': 'AiTeam', 'user': 'Gadji', 'email': 'ag@gmail.com'},\n",
       "  'blocked': None,\n",
       "  'tpm_limit': None,\n",
       "  'rpm_limit': None,\n",
       "  'max_budget': 10.0,\n",
       "  'budget_duration': None,\n",
       "  'budget_reset_at': None,\n",
       "  'allowed_cache_controls': [],\n",
       "  'model_spend': {},\n",
       "  'model_max_budget': {},\n",
       "  'budget_id': None,\n",
       "  'created_at': '2024-12-19T16:49:13.083000+00:00',\n",
       "  'updated_at': '2024-12-19T16:51:25.571000+00:00',\n",
       "  'litellm_budget_table': None}}"
      ]
     },
     "execution_count": 25,
     "metadata": {},
     "output_type": "execute_result"
    }
   ],
   "source": [
    "response.json()"
   ]
  },
  {
   "cell_type": "code",
   "execution_count": 19,
   "metadata": {},
   "outputs": [
    {
     "name": "stdout",
     "output_type": "stream",
     "text": [
      "Internal Server Error"
     ]
    }
   ],
   "source": [
    "!curl -X POST 'http://0.0.0.0:4000/team/new'\\\n",
    "    -H 'Authorization: Bearer sk-1234'\\\n",
    "    -H 'Content-Type: application/json'\\\n",
    "    -d '{\"team_alias\": \"Sales\", \\\n",
    "        \"max_budget\": 10, \"max_parallel_requests\": 10, \\\n",
    "        \"organization_id\":\"16f0cb2e-1e2b-4b38-9623-bfc754efb6ad\"}' "
   ]
  },
  {
   "cell_type": "code",
   "execution_count": 3,
   "metadata": {},
   "outputs": [],
   "source": [
    "\n",
    "def hash_token(token: str):\n",
    "    import hashlib\n",
    "\n",
    "    # Hash the string using SHA-256\n",
    "    hashed_token = hashlib.sha256(token.encode()).hexdigest()\n",
    "\n",
    "    return hashed_token"
   ]
  },
  {
   "cell_type": "code",
   "execution_count": 8,
   "metadata": {},
   "outputs": [
    {
     "data": {
      "text/plain": [
       "'70bf186f10a2b45e8f7e0973ef0c5a5fa2ded887447b318714ea77d0a2d70fe3'"
      ]
     },
     "execution_count": 8,
     "metadata": {},
     "output_type": "execute_result"
    }
   ],
   "source": [
    "hash_token(token=key)"
   ]
  },
  {
   "cell_type": "code",
   "execution_count": 9,
   "metadata": {
    "vscode": {
     "languageId": "sql"
    }
   },
   "outputs": [
    {
     "ename": "SyntaxError",
     "evalue": "invalid syntax (207769578.py, line 1)",
     "output_type": "error",
     "traceback": [
      "\u001b[0;36m  Cell \u001b[0;32mIn[9], line 1\u001b[0;36m\u001b[0m\n\u001b[0;31m    psql -U admin -d keys_db\u001b[0m\n\u001b[0m            ^\u001b[0m\n\u001b[0;31mSyntaxError\u001b[0m\u001b[0;31m:\u001b[0m invalid syntax\n"
     ]
    }
   ],
   "source": [
    "psql -U admin -d keys_db\n",
    "psql\n",
    "\\dt # list database\n",
    "SELECT * FROM \"LiteLLM_SpendLogs\";"
   ]
  },
  {
   "cell_type": "markdown",
   "metadata": {
    "vscode": {
     "languageId": "sql"
    }
   },
   "source": [
    "```prisma\n",
    "// View spend, model, api_key per request\n",
    "model LiteLLM_SpendLogs {\n",
    "  request_id          String @id\n",
    "  call_type           String\n",
    "  api_key             String  @default (\"\") // Hashed API Token. Not the actual Virtual Key. Equivalent to 'token' column in LiteLLM_VerificationToken\n",
    "  spend               Float    @default(0.0)\n",
    "  total_tokens        Int     @default(0)\n",
    "  prompt_tokens       Int     @default(0)\n",
    "  completion_tokens   Int     @default(0)\n",
    "  startTime           DateTime // Assuming start_time is a DateTime field\n",
    "  endTime             DateTime // Assuming end_time is a DateTime field\n",
    "  completionStartTime DateTime? // Assuming completionStartTime is a DateTime field\n",
    "  model               String   @default(\"\")\n",
    "  model_id            String?   @default(\"\") // the model id stored in proxy model db\n",
    "  model_group         String?   @default(\"\") // public model_name / model_group\n",
    "  custom_llm_provider String?   @default(\"\") // litellm used custom_llm_provider\n",
    "  api_base            String?   @default(\"\")\n",
    "  user                String?   @default(\"\")\n",
    "  metadata            Json?     @default(\"{}\")\n",
    "  cache_hit           String?   @default(\"\")\n",
    "  cache_key           String?   @default(\"\")\n",
    "  request_tags        Json?     @default(\"[]\")\n",
    "  team_id             String? \n",
    "  end_user            String?\n",
    "  requester_ip_address String?\n",
    "  @@index([startTime])\n",
    "  @@index([end_user])\n",
    "}\n",
    "```"
   ]
  },
  {
   "cell_type": "code",
   "execution_count": null,
   "metadata": {
    "vscode": {
     "languageId": "sql"
    }
   },
   "outputs": [],
   "source": []
  },
  {
   "cell_type": "markdown",
   "metadata": {},
   "source": [
    "### SQL Code"
   ]
  },
  {
   "cell_type": "code",
   "execution_count": 29,
   "metadata": {},
   "outputs": [],
   "source": [
    "sql_query = \"\"\"\n",
    "WITH SpendByModelApiKey AS (\n",
    "    SELECT\n",
    "        sl.api_key,\n",
    "        sl.model,\n",
    "        SUM(sl.spend) AS model_cost,\n",
    "        SUM(sl.prompt_tokens) AS model_input_tokens,\n",
    "        SUM(sl.completion_tokens) AS model_output_tokens\n",
    "    FROM\n",
    "        \"LiteLLM_SpendLogs\" sl\n",
    "    WHERE\n",
    "        sl.\"startTime\" BETWEEN $1::date AND $2::date AND sl.api_key = $3\n",
    "    GROUP BY\n",
    "        sl.api_key,\n",
    "        sl.model\n",
    ")\n",
    "SELECT\n",
    "    api_key,\n",
    "    SUM(model_cost) AS total_cost,\n",
    "    SUM(model_input_tokens) AS total_input_tokens,\n",
    "    SUM(model_output_tokens) AS total_output_tokens,\n",
    "    jsonb_agg(jsonb_build_object(\n",
    "        'model', model,\n",
    "        'total_cost', model_cost,\n",
    "        'total_input_tokens', model_input_tokens,\n",
    "        'total_output_tokens', model_output_tokens\n",
    "    )) AS model_details\n",
    "FROM\n",
    "    SpendByModelApiKey\n",
    "GROUP BY\n",
    "    api_key\n",
    "ORDER BY\n",
    "    total_cost DESC;\n",
    "\"\"\""
   ]
  },
  {
   "cell_type": "code",
   "execution_count": 30,
   "metadata": {},
   "outputs": [],
   "source": [
    "db_host = 'postgres'\n",
    "db_port = '5432'\n",
    "db_user = 'admin'\n",
    "db_name = 'keys_db'\n",
    "password = 'secret'\n",
    "\n",
    "db_url = f\"postgresql://{db_user}:{password}@{db_host}:{db_port}/{db_name}\""
   ]
  },
  {
   "cell_type": "code",
   "execution_count": 6,
   "metadata": {},
   "outputs": [
    {
     "ename": "ModuleNotFoundError",
     "evalue": "No module named 'psycopg2'",
     "output_type": "error",
     "traceback": [
      "\u001b[0;31m---------------------------------------------------------------------------\u001b[0m",
      "\u001b[0;31mModuleNotFoundError\u001b[0m                       Traceback (most recent call last)",
      "Cell \u001b[0;32mIn[6], line 3\u001b[0m\n\u001b[1;32m      1\u001b[0m \u001b[38;5;28;01mfrom\u001b[39;00m \u001b[38;5;21;01msqlalchemy\u001b[39;00m \u001b[38;5;28;01mimport\u001b[39;00m create_engine\n\u001b[0;32m----> 3\u001b[0m engine \u001b[38;5;241m=\u001b[39m \u001b[43mcreate_engine\u001b[49m\u001b[43m(\u001b[49m\u001b[43mdb_url\u001b[49m\u001b[43m)\u001b[49m\n",
      "File \u001b[0;32m<string>:2\u001b[0m, in \u001b[0;36mcreate_engine\u001b[0;34m(url, **kwargs)\u001b[0m\n",
      "File \u001b[0;32m~/miniconda3/envs/ragondin/lib/python3.12/site-packages/sqlalchemy/util/deprecations.py:281\u001b[0m, in \u001b[0;36mdeprecated_params.<locals>.decorate.<locals>.warned\u001b[0;34m(fn, *args, **kwargs)\u001b[0m\n\u001b[1;32m    274\u001b[0m     \u001b[38;5;28;01mif\u001b[39;00m m \u001b[38;5;129;01min\u001b[39;00m kwargs:\n\u001b[1;32m    275\u001b[0m         _warn_with_version(\n\u001b[1;32m    276\u001b[0m             messages[m],\n\u001b[1;32m    277\u001b[0m             versions[m],\n\u001b[1;32m    278\u001b[0m             version_warnings[m],\n\u001b[1;32m    279\u001b[0m             stacklevel\u001b[38;5;241m=\u001b[39m\u001b[38;5;241m3\u001b[39m,\n\u001b[1;32m    280\u001b[0m         )\n\u001b[0;32m--> 281\u001b[0m \u001b[38;5;28;01mreturn\u001b[39;00m \u001b[43mfn\u001b[49m\u001b[43m(\u001b[49m\u001b[38;5;241;43m*\u001b[39;49m\u001b[43margs\u001b[49m\u001b[43m,\u001b[49m\u001b[43m \u001b[49m\u001b[38;5;241;43m*\u001b[39;49m\u001b[38;5;241;43m*\u001b[39;49m\u001b[43mkwargs\u001b[49m\u001b[43m)\u001b[49m\n",
      "File \u001b[0;32m~/miniconda3/envs/ragondin/lib/python3.12/site-packages/sqlalchemy/engine/create.py:599\u001b[0m, in \u001b[0;36mcreate_engine\u001b[0;34m(url, **kwargs)\u001b[0m\n\u001b[1;32m    597\u001b[0m         \u001b[38;5;28;01mif\u001b[39;00m k \u001b[38;5;129;01min\u001b[39;00m kwargs:\n\u001b[1;32m    598\u001b[0m             dbapi_args[k] \u001b[38;5;241m=\u001b[39m pop_kwarg(k)\n\u001b[0;32m--> 599\u001b[0m     dbapi \u001b[38;5;241m=\u001b[39m \u001b[43mdbapi_meth\u001b[49m\u001b[43m(\u001b[49m\u001b[38;5;241;43m*\u001b[39;49m\u001b[38;5;241;43m*\u001b[39;49m\u001b[43mdbapi_args\u001b[49m\u001b[43m)\u001b[49m\n\u001b[1;32m    601\u001b[0m dialect_args[\u001b[38;5;124m\"\u001b[39m\u001b[38;5;124mdbapi\u001b[39m\u001b[38;5;124m\"\u001b[39m] \u001b[38;5;241m=\u001b[39m dbapi\n\u001b[1;32m    603\u001b[0m dialect_args\u001b[38;5;241m.\u001b[39msetdefault(\u001b[38;5;124m\"\u001b[39m\u001b[38;5;124mcompiler_linting\u001b[39m\u001b[38;5;124m\"\u001b[39m, compiler\u001b[38;5;241m.\u001b[39mNO_LINTING)\n",
      "File \u001b[0;32m~/miniconda3/envs/ragondin/lib/python3.12/site-packages/sqlalchemy/dialects/postgresql/psycopg2.py:690\u001b[0m, in \u001b[0;36mPGDialect_psycopg2.import_dbapi\u001b[0;34m(cls)\u001b[0m\n\u001b[1;32m    688\u001b[0m \u001b[38;5;129m@classmethod\u001b[39m\n\u001b[1;32m    689\u001b[0m \u001b[38;5;28;01mdef\u001b[39;00m \u001b[38;5;21mimport_dbapi\u001b[39m(\u001b[38;5;28mcls\u001b[39m):\n\u001b[0;32m--> 690\u001b[0m     \u001b[38;5;28;01mimport\u001b[39;00m \u001b[38;5;21;01mpsycopg2\u001b[39;00m\n\u001b[1;32m    692\u001b[0m     \u001b[38;5;28;01mreturn\u001b[39;00m psycopg2\n",
      "\u001b[0;31mModuleNotFoundError\u001b[0m: No module named 'psycopg2'"
     ]
    }
   ],
   "source": [
    "from sqlalchemy import create_engine\n",
    "\n",
    "engine = create_engine(db_url)"
   ]
  },
  {
   "cell_type": "code",
   "execution_count": null,
   "metadata": {},
   "outputs": [],
   "source": []
  },
  {
   "cell_type": "code",
   "execution_count": null,
   "metadata": {},
   "outputs": [],
   "source": [
    "db_response = await prisma_client.db.query_raw(\n",
    "sql_query, start_date_obj, end_date_obj, api_key\n",
    ")"
   ]
  }
 ],
 "metadata": {
  "kernelspec": {
   "display_name": "ragondin",
   "language": "python",
   "name": "python3"
  },
  "language_info": {
   "codemirror_mode": {
    "name": "ipython",
    "version": 3
   },
   "file_extension": ".py",
   "mimetype": "text/x-python",
   "name": "python",
   "nbconvert_exporter": "python",
   "pygments_lexer": "ipython3",
   "version": "3.12.7"
  }
 },
 "nbformat": 4,
 "nbformat_minor": 2
}
