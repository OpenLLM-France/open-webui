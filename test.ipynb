{
 "cells": [
  {
   "cell_type": "code",
   "execution_count": 6,
   "metadata": {},
   "outputs": [
    {
     "name": "stdout",
     "output_type": "stream",
     "text": [
      "200\n",
      "{'key': 'sk-d4eQY5xNDT-ye5jaR_QsLQ', 'info': {'key_name': 'sk-...QsLQ', 'key_alias': 'Agadji', 'soft_budget_cooldown': False, 'spend': 0.0, 'expires': None, 'models': [], 'aliases': {}, 'config': {}, 'user_id': None, 'team_id': None, 'permissions': {}, 'max_parallel_requests': None, 'metadata': {'team': 'AiTeam', 'user': 'Agadji', 'email': 'ag@gmail.com'}, 'blocked': None, 'tpm_limit': None, 'rpm_limit': None, 'max_budget': 70.0, 'budget_duration': '2m', 'budget_reset_at': '2024-12-17T10:39:07.386000+00:00', 'allowed_cache_controls': [], 'model_spend': {}, 'model_max_budget': {}, 'budget_id': None, 'created_at': '2024-12-17T08:45:44.479000+00:00', 'updated_at': '2024-12-17T10:37:47.653000+00:00', 'litellm_budget_table': None}}\n"
     ]
    }
   ],
   "source": [
    "import requests\n",
    "\n",
    "url = \"http://localhost:4000/key/info\"\n",
    "key = \"sk-d4eQY5xNDT-ye5jaR_QsLQ\"\n",
    "auth_token = \"sk-1234\"\n",
    "\n",
    "# Constructing the headers\n",
    "headers = {\n",
    "    \"Authorization\": f\"Bearer {auth_token}\"\n",
    "}\n",
    "\n",
    "# Sending the GET request\n",
    "response = requests.get(url, params={\"key\": key}, headers=headers)\n",
    "\n",
    "# Printing the response\n",
    "print(response.status_code)\n",
    "print(response.json())"
   ]
  },
  {
   "cell_type": "code",
   "execution_count": null,
   "metadata": {},
   "outputs": [],
   "source": [
    "params = {\n",
    "    \"key\": key,\n",
    "    \n",
    "}"
   ]
  },
  {
   "cell_type": "code",
   "execution_count": null,
   "metadata": {},
   "outputs": [],
   "source": []
  }
 ],
 "metadata": {
  "kernelspec": {
   "display_name": "ragondin",
   "language": "python",
   "name": "python3"
  },
  "language_info": {
   "codemirror_mode": {
    "name": "ipython",
    "version": 3
   },
   "file_extension": ".py",
   "mimetype": "text/x-python",
   "name": "python",
   "nbconvert_exporter": "python",
   "pygments_lexer": "ipython3",
   "version": "3.12.7"
  }
 },
 "nbformat": 4,
 "nbformat_minor": 2
}
